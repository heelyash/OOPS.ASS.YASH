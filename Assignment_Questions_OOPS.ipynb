{
  "nbformat": 4,
  "nbformat_minor": 0,
  "metadata": {
    "colab": {
      "provenance": []
    },
    "kernelspec": {
      "name": "python3",
      "display_name": "Python 3"
    },
    "language_info": {
      "name": "python"
    }
  },
  "cells": [
    {
      "cell_type": "code",
      "execution_count": null,
      "metadata": {
        "id": "UTKVwiRMaBob"
      },
      "outputs": [],
      "source": [
        "\"\"\"Que 1 1. What are the five key concepts of Object-Oriented Programming (OOP)?\n",
        "\n",
        "Ans . -- The five key concepts of Object-Oriented Programming (OOP) are:\n",
        "Classes and objects\n",
        "Objects are the framework for OOP code, and classes describe the type of data an object contains.\n",
        "Abstraction\n",
        "This concept involves showing only the relevant details to the end-user and hiding the rest.\n",
        "Encapsulation\n",
        "This concept involves binding data variables and methods together in a class. It can also be used to ensure security by hiding data from unauthorized access.\n",
        "Inheritance\n",
        "This concept involves one class inheriting the functions and properties of another class. Inheritance can make code easier to write and maintain.\n",
        "Polymorphism\n",
        "This concept allows developers to assign and perform multiple actions using a single function.\n",
        "Object Oriented Programming in C++ - GeeksforGeeks\n",
        "These features make OOP code more flexible, reusable, extensible, and easier to understand. OOP languages can also help programmers improve the quality of\n",
        " software and productivity. \"\"\""
      ]
    },
    {
      "cell_type": "code",
      "source": [
        "\"\"\"2. Write a Python class for a `Car` with attributes for `make`, `model`, and `year`. Include a method to display\n",
        "the car's information.\n",
        "\n",
        "Ans\"\"\"\n",
        "class Car:\n",
        "  def __init__(self, make, model, year):\n",
        "    self.make = make\n",
        "    self.model = model\n",
        "    self.year = year\n",
        "\n",
        "  def display_info(self):\n",
        "    print(f\"Make: {self.make}, Model: {self.model}, Year: {self.year}\")\n",
        "\n",
        "\n",
        "# Example usage:\n",
        "my_car = Car(\"Toyota\", \"Camry\", 2023)\n",
        "my_car.display_info()\n"
      ],
      "metadata": {
        "colab": {
          "base_uri": "https://localhost:8080/"
        },
        "id": "5uRBM3-casj8",
        "outputId": "48df6867-8228-4606-d8b0-fe9c7ac9ca5c"
      },
      "execution_count": 2,
      "outputs": [
        {
          "output_type": "stream",
          "name": "stdout",
          "text": [
            "Make: Toyota, Model: Camry, Year: 2023\n"
          ]
        }
      ]
    },
    {
      "cell_type": "code",
      "source": [
        "\"\"\"Que 3. Explain the difference between instance methods and class methods. Provide an example of each.?\n",
        "\n",
        "Ans, The main difference between instance methods and class methods is that instance methods require a class instance, while class methods do not:\n",
        "Instance methods\n",
        "These methods are created from a specific object and can access both class and instance attributes. They are the default choice for most methods within a class.\n",
        "Instance methods are used when the method's behavior depends on the state of a specific instance.\n",
        "Class methods\n",
        "These methods are specific to the class and can access class attributes, but not instance attributes. They are used when the method needs to access or modify\n",
        "class-level attributes or when you want to create alternative constructors. Class methods are marked with the @classmethod decorator.\"\"\""
      ],
      "metadata": {
        "id": "bmJ7PJ0BbIvv"
      },
      "execution_count": null,
      "outputs": []
    },
    {
      "cell_type": "code",
      "source": [
        "\"\"\"Que 4.How does Python implement method overloading? Give an example.?\n",
        "\n",
        "Ans. As was previously mentioned, method overloading in Python can be accomplished by using variable-length arguments in the method. You can call a\n",
        " method with a different number of parameters if you create one with variables for the length of the arguments.\"\"\"\n",
        "\n",
        "class MyClass:\n",
        "    def my_method(self, x):\n",
        "        print(\"Method with one parameter:\", x)\n",
        "\n",
        "    def my_method(self, x, y):  # Overrides the previous definition\n",
        "        print(\"Method with two parameters:\", x, y)\n",
        "\n",
        "obj = MyClass()\n",
        "obj.my_method(1, 2)  # Calls the method with two parameters\n",
        "# obj.my_method(1) # This will result in a TypeError because the overridden method requires two arguments.\n",
        "\n"
      ],
      "metadata": {
        "colab": {
          "base_uri": "https://localhost:8080/"
        },
        "id": "QzRZSc3wbvP3",
        "outputId": "6790baa7-6715-4419-80ec-502f92b97e9f"
      },
      "execution_count": 4,
      "outputs": [
        {
          "output_type": "stream",
          "name": "stdout",
          "text": [
            "Method with two parameters: 1 2\n"
          ]
        }
      ]
    },
    {
      "cell_type": "code",
      "source": [
        "\"\"\" Que .5. What are the three types of access modifiers in Python? How are they denoted?\n",
        "\n",
        "Ans.The three types of access modifiers in Python are public, protected, and private, and they are denoted by underscores as follows:\n",
        "Public: Accessible from anywhere in the program, with no underscores\n",
        "Protected: Accessible within the class and its subclasses, with a single underscore ( _ )\n",
        "Private: Accessible only within the class, with a double underscore ( __ )\n",
        "Access modifiers are important for managing the visibility and accessibility of class members. They help protect a class's internal state and prevent\n",
        "unauthorized access to data. \"\"\"\n"
      ],
      "metadata": {
        "id": "iHGU4u-wcJAm"
      },
      "execution_count": null,
      "outputs": []
    },
    {
      "cell_type": "code",
      "source": [
        "\"\"\"6. Describe the five types of inheritance in Python. Provide a simple example of multiple inheritance.?\n",
        "\n",
        "Ans. Single Inheritance:\n",
        "Single inheritance enables a derived class to inherit properties from a single parent class, thus enabling code reusability and the addition of new features to\n",
        "existing code.\n",
        "\n",
        "\n",
        "Multiple Inheritance:\n",
        "When a class can be derived from more than one base class this type of inheritance is called multiple inheritances. In multiple inheritances, all the features of\n",
        "the base classes are inherited into the derived class.\n",
        "\n",
        "Multilevel Inheritance :\n",
        "In multilevel inheritance, features of the base class and the derived class are further inherited into the new derived class. This is similar to a relationship\n",
        "representing a\n",
        "child and a grandfather.\n",
        "\n",
        "Hierarchical Inheritance:\n",
        "When more than one derived class are created from a single base this type of inheritance is called hierarchical inheritance. In this program, we have a parent\n",
        "(base) class and two child (derived) classes.\n",
        "\n",
        "Hybrid Inheritance:\n",
        "Inheritance consisting of multiple types of inheritance is called hybrid inheritance.\"\"\"\n",
        "\n",
        "# Python program to demonstrate\n",
        "# multiple inheritance\n",
        "\n",
        "# Base class1\n",
        "class Mother:\n",
        "\tmothername = \"\"\n",
        "\n",
        "\tdef mother(self):\n",
        "\t\tprint(self.mothername)\n",
        "\n",
        "# Base class2\n",
        "\n",
        "\n",
        "class Father:\n",
        "\tfathername = \"\"\n",
        "\n",
        "\tdef father(self):\n",
        "\t\tprint(self.fathername)\n",
        "\n",
        "# Derived class\n",
        "\n",
        "\n",
        "class Son(Mother, Father):\n",
        "\tdef parents(self):\n",
        "\t\tprint(\"Father :\", self.fathername)\n",
        "\t\tprint(\"Mother :\", self.mothername)\n",
        "\n",
        "\n",
        "# Driver's code\n",
        "s1 = Son()\n",
        "s1.fathername = \"RAM\"\n",
        "s1.mothername = \"SITA\"\n",
        "s1.parents()\n",
        "\n",
        "\n"
      ],
      "metadata": {
        "colab": {
          "base_uri": "https://localhost:8080/"
        },
        "id": "rTWxS7hJcncq",
        "outputId": "0e8ce977-db5e-4363-8b60-4fcdd563756c"
      },
      "execution_count": 5,
      "outputs": [
        {
          "output_type": "stream",
          "name": "stdout",
          "text": [
            "Father : RAM\n",
            "Mother : SITA\n"
          ]
        }
      ]
    },
    {
      "cell_type": "code",
      "source": [
        "\"\"\"Que 7 What is the Method Resolution Order (MRO) in Python? How can you retrieve it programmatically?\n",
        "\n",
        "Ans. Python’s MRO follows the C3 Linearization algorithm, which provides a consistent and predictable order for method resolution in the presence of multiple\n",
        "inheritance. It ensures that each method in a class hierarchy is executed exactly once.\n",
        "\n",
        "The MRO can be accessed using the __mro__ attribute on a class or by using the mro() method. By examining the MRO, you can see the order in which Python will\n",
        "search for methods.\n",
        "\n",
        "Let’s take an example\"\"\"\n",
        "\n",
        "class A:\n",
        "    def function(self):\n",
        "        print(\"A's function()\")\n",
        "\n",
        "class B(A):\n",
        "    def function(self):\n",
        "        print(\"B's function()\")\n",
        "\n",
        "class C(A):\n",
        "    def function(self):\n",
        "        print(\"C's function()\")\n",
        "\n",
        "class D(B, C):\n",
        "    pass\n",
        "\n",
        "d = D()\n",
        "d.function()\n",
        "\n",
        "\"\"\"In this example, class D inherits from both B and C, which in turn inherit from A. When d.function() is called, Python searches for the function() method in\n",
        "the following order: D → B → C → A. Since B is the first class encountered in the MRO that defines the function() method, its implementation is executed.\n",
        "\n",
        "Method Resolution Order\n",
        "\n",
        "Python determines the MRO based on the following principles:\n",
        "\n",
        "Depth-First Search: The algorithm prefers going deep into the inheritance tree before moving horizontally. It means that if there are multiple inheritance paths,\n",
        "Python explores one path entirely before moving to the next.\n",
        "Left-to-Right: In case of multiple inheritance, the order of base classes in the class definition determines the priority when resolving methods. The class that\n",
        " appears first takes precedence over the one that follows.\n",
        "Children before Parents: The MRO always ensures that a class is listed before its parents. It maintains consistency and avoids duplicate method execution.\"\"\""
      ],
      "metadata": {
        "colab": {
          "base_uri": "https://localhost:8080/"
        },
        "id": "XZjgMG4OdC0P",
        "outputId": "875706c4-dd60-4832-bce3-bffa8aaa492a"
      },
      "execution_count": 8,
      "outputs": [
        {
          "output_type": "stream",
          "name": "stdout",
          "text": [
            "B's function()\n"
          ]
        }
      ]
    },
    {
      "cell_type": "code",
      "source": [
        "\"\"\"Que 8 Create an abstract base class `Shape` with an abstract method `area()`. Then create two subclasses\n",
        "`Circle` and `Rectangle` that implement the `area()` method.?\n",
        "\n",
        "Ans.\"\"\"\n",
        "from abc import ABC, abstractmethod\n",
        "import math\n",
        "\n",
        "class Shape(ABC):\n",
        "  @abstractmethod\n",
        "  def area(self):\n",
        "    pass\n",
        "\n",
        "\n",
        "class Circle(Shape):\n",
        "  def __init__(self, radius):\n",
        "    self.radius = radius\n",
        "\n",
        "  def area(self):\n",
        "    return math.pi * self.radius**2\n",
        "\n",
        "\n",
        "class Rectangle(Shape):\n",
        "  def __init__(self, width, height):\n",
        "    self.width = width\n",
        "    self.height = height\n",
        "\n",
        "  def area(self):\n",
        "    return self.width * self.height\n"
      ],
      "metadata": {
        "id": "-Lce0kMwdWdL"
      },
      "execution_count": 11,
      "outputs": []
    },
    {
      "cell_type": "code",
      "source": [
        "\"\"\"9. Demonstrate polymorphism by creating a function that can work with different shape objects to calculate\n",
        "# and print their areas\n",
        "\n",
        "Ans \"\"\"\n",
        "\n",
        "from abc import ABC, abstractmethod\n",
        "import math\n",
        "\n",
        "class Shape(ABC):\n",
        "  @abstractmethod\n",
        "  def area(self):\n",
        "    pass\n",
        "\n",
        "\n",
        "class Circle(Shape):\n",
        "  def __init__(self, radius):\n",
        "    self.radius = radius\n",
        "\n",
        "  def area(self):\n",
        "    return math.pi * self.radius**2\n",
        "\n",
        "\n",
        "class Rectangle(Shape):\n",
        "  def __init__(self, width, height):\n",
        "    self.width = width\n",
        "    self.height = height\n",
        "\n",
        "  def area(self):\n",
        "    return self.width * self.height\n",
        "\n",
        "\n",
        "def calculate_and_print_area(shape):\n",
        "  \"\"\"Calculates and prints the area of a given shape.\"\"\"\n",
        "  print(f\"The area of the shape is: {shape.area()}\")\n",
        "\n",
        "\n",
        "# Example usage:\n",
        "circle = Circle(5)\n",
        "rectangle = Rectangle(4, 6)\n",
        "\n",
        "calculate_and_print_area(circle)\n",
        "calculate_and_print_area(rectangle)"
      ],
      "metadata": {
        "colab": {
          "base_uri": "https://localhost:8080/"
        },
        "id": "nGptYnuudy9W",
        "outputId": "9fe6604c-d850-4840-bdcd-f4b9d1ec782f"
      },
      "execution_count": 12,
      "outputs": [
        {
          "output_type": "stream",
          "name": "stdout",
          "text": [
            "The area of the shape is: 78.53981633974483\n",
            "The area of the shape is: 24\n"
          ]
        }
      ]
    },
    {
      "cell_type": "code",
      "source": [
        "\"\"\"0. Implement encapsulation in a `BankAccount` class with private attributes for `balance` and\n",
        "# `account_number`. Include methods for deposit, withdrawal, and balance inquiry\n",
        "\n",
        "Ans \"\"\"\n",
        "\n",
        "class BankAccount:\n",
        "    def __init__(self, account_number, initial_balance):\n",
        "        self.__account_number = account_number  # Private attribute\n",
        "        self.__balance = initial_balance  # Private attribute\n",
        "\n",
        "    def deposit(self, amount):\n",
        "        if amount > 0:\n",
        "            self.__balance += amount\n",
        "            print(f\"Deposited ${amount}. New balance: ${self.__balance}\")\n",
        "        else:\n",
        "            print(\"Invalid deposit amount.\")\n",
        "\n",
        "    def withdraw(self, amount):\n",
        "        if amount > 0 and amount <= self.__balance:\n",
        "            self.__balance -= amount\n",
        "            print(f\"Withdrew ${amount}. New balance: ${self.__balance}\")\n",
        "        else:\n",
        "            print(\"Invalid withdrawal amount or insufficient balance.\")\n",
        "\n",
        "    def get_balance(self):\n",
        "        return self.__balance\n",
        "\n",
        "    def get_account_number(self):\n",
        "        return self.__account_number\n",
        "\n",
        "\n",
        "# Example usage:\n",
        "account = BankAccount(\"12345\", 1000)\n",
        "account.deposit(500)\n",
        "account.withdraw(200)\n",
        "print(f\"Account balance: ${account.get_balance()}\")\n",
        "print(f\"Account number: {account.get_account_number()}\")"
      ],
      "metadata": {
        "colab": {
          "base_uri": "https://localhost:8080/"
        },
        "id": "IWTkp1GAfA6I",
        "outputId": "1bfc773f-3170-4711-af20-9f23bd4f8822"
      },
      "execution_count": 13,
      "outputs": [
        {
          "output_type": "stream",
          "name": "stdout",
          "text": [
            "Deposited $500. New balance: $1500\n",
            "Withdrew $200. New balance: $1300\n",
            "Account balance: $1300\n",
            "Account number: 12345\n"
          ]
        }
      ]
    },
    {
      "cell_type": "code",
      "source": [
        "\"\"\"Que 11. Write a class that overrides the `__str__` and `__add__` magic methods. What will these methods allow\n",
        "you to do?\n",
        "\n",
        "Ans\"\"\"\n",
        "\n",
        "class MySpecialClass:\n",
        "  def __init__(self, value):\n",
        "    self.value = value\n",
        "\n",
        "  def __str__(self):\n",
        "    \"\"\"\n",
        "    This method allows you to control how an object is represented as a string.\n",
        "    When you use str(object) or print(object), this method will be called.\n",
        "    \"\"\"\n",
        "    return f\"MySpecialClass with value: {self.value}\"\n",
        "\n",
        "  def __add__(self, other):\n",
        "    \"\"\"\n",
        "    This method allows you to define how the '+' operator behaves when used\n",
        "    with objects of this class.\n",
        "    \"\"\"\n",
        "    if isinstance(other, MySpecialClass):\n",
        "      return MySpecialClass(self.value + other.value)\n",
        "    else:\n",
        "      return MySpecialClass(self.value + other)\n",
        "\n",
        "\n",
        "# Example usage\n",
        "obj1 = MySpecialClass(10)\n",
        "obj2 = MySpecialClass(20)\n",
        "\n",
        "print(obj1)  # Calls __str__\n",
        "print(obj1 + obj2)  # Calls __add__ (adding two MySpecialClass objects)\n",
        "print(obj1 + 5)  # Calls __add__ (adding a MySpecialClass object and an integer)"
      ],
      "metadata": {
        "colab": {
          "base_uri": "https://localhost:8080/"
        },
        "id": "jKcAlg5BffbU",
        "outputId": "2ca7a074-7454-4fa1-9848-7d3786dea441"
      },
      "execution_count": 14,
      "outputs": [
        {
          "output_type": "stream",
          "name": "stdout",
          "text": [
            "MySpecialClass with value: 10\n",
            "MySpecialClass with value: 30\n",
            "MySpecialClass with value: 15\n"
          ]
        }
      ]
    },
    {
      "cell_type": "code",
      "source": [
        "\"\"\"Que 12.Create a decorator that measures and prints the execution time of a function.\n",
        "\n",
        "Ans\"\"\"\n",
        "\n",
        "import time\n",
        "\n",
        "def timeit(func):\n",
        "  \"\"\"Decorator to measure and print the execution time of a function.\"\"\"\n",
        "  def wrapper(*args, **kwargs):\n",
        "    start_time = time.time()\n",
        "    result = func(*args, **kwargs)\n",
        "    end_time = time.time()\n",
        "    execution_time = end_time - start_time\n",
        "    print(f\"Function {func.__name__} took {execution_time:.6f} seconds to execute.\")\n",
        "    return result\n",
        "  return wrapper\n",
        "\n",
        "# Example usage:\n",
        "\n",
        "@timeit\n",
        "def my_function():\n",
        "  # Simulate some time-consuming task\n",
        "  time.sleep(2)\n",
        "  print(\"Function is done.\")\n",
        "\n",
        "my_function()"
      ],
      "metadata": {
        "colab": {
          "base_uri": "https://localhost:8080/"
        },
        "id": "aN1oUd_OfsPH",
        "outputId": "4643381a-e0dc-449f-d9a2-b3e09e27e460"
      },
      "execution_count": 15,
      "outputs": [
        {
          "output_type": "stream",
          "name": "stdout",
          "text": [
            "Function is done.\n",
            "Function my_function took 2.002247 seconds to execute.\n"
          ]
        }
      ]
    },
    {
      "cell_type": "code",
      "source": [
        "\"\"\"13. Explain the concept of the Diamond Problem in multiple inheritance. How does Python resolve it?\n",
        "\n",
        "# Explanation of the Diamond Problem in Multiple Inheritance\n",
        "\n",
        "# The Diamond Problem occurs when a class inherits from two classes that share a common ancestor.\n",
        "# This creates ambiguity when calling a method that is defined in the common ancestor, as it's unclear which version of the method should be executed.\n",
        "\n",
        "# Example:\n",
        "#       A\n",
        "#      / \\\n",
        "#     B   C\n",
        "#      \\ /\n",
        "#       D\n",
        "\n",
        "# If class D inherits from B and C, and both B and C inherit from A, then a method defined in A might be overridden differently in B and C.\n",
        "# When calling that method from D, it's not clear which version (from B or C) should be used.\n",
        "\n",
        "# How Python Resolves the Diamond Problem:\n",
        "\n",
        "# Method Resolution Order (MRO): Python uses a specific algorithm called C3 linearization to determine the order in which methods should be looked up when\n",
        "inherited from multiple classes.\n",
        "# This order ensures that:\n",
        "#    1. Each class is visited only once.\n",
        "#    2. The inheritance hierarchy is followed as much as possible.\n",
        "#    3. The order is consistent and predictable.\n",
        "#\n",
        "# Python's MRO effectively resolves the Diamond problem by providing a well-defined order for method lookup, ensuring that the desired version of a method is\n",
        "called without ambiguity.\"\"\""
      ],
      "metadata": {
        "id": "a_uG7fPaf6op"
      },
      "execution_count": null,
      "outputs": []
    },
    {
      "cell_type": "code",
      "source": [
        "\"\"\"Que 14 Write a class method that keeps track of the number of instances created from a class.\n",
        "\n",
        "Ans.\"\"\"\n",
        "\n",
        "class Car:\n",
        "  # Class variable to keep track of the number of instances\n",
        "  number_of_cars = 0\n",
        "\n",
        "  def __init__(self, make, model, year):\n",
        "    self.make = make\n",
        "    self.model = model\n",
        "    self.year = year\n",
        "    Car.number_of_cars += 1  # Increment the counter when a new instance is created\n",
        "\n",
        "  def display_info(self):\n",
        "    print(f\"Make: {self.make}, Model: {self.model}, Year: {self.year}\")\n",
        "\n",
        "  @classmethod\n",
        "  def get_number_of_cars(cls):\n",
        "    return cls.number_of_cars\n",
        "\n",
        "# Example usage:\n",
        "car1 = Car(\"Toyota\", \"Camry\", 2023)\n",
        "car2 = Car(\"Honda\", \"Civic\", 2022)\n",
        "\n",
        "print(f\"Total number of cars created: {Car.get_number_of_cars()}\")"
      ],
      "metadata": {
        "colab": {
          "base_uri": "https://localhost:8080/"
        },
        "id": "C7DbNBJcgUHr",
        "outputId": "8a5a68c2-b485-49e2-a059-f5ffb106144e"
      },
      "execution_count": 16,
      "outputs": [
        {
          "output_type": "stream",
          "name": "stdout",
          "text": [
            "Total number of cars created: 2\n"
          ]
        }
      ]
    },
    {
      "cell_type": "code",
      "source": [
        "\"\"\"Que 15. Implement a static method in a class that checks if a given year is a leap year.\n",
        "\n",
        "Ans\"\"\"\n",
        "\n",
        "class Car:\n",
        "  # ... (rest of your Car class code)\n",
        "\n",
        "  @staticmethod\n",
        "  def is_leap_year(year):\n",
        "    \"\"\"\n",
        "    Static method to check if a given year is a leap year.\n",
        "\n",
        "    Args:\n",
        "      year: The year to check.\n",
        "\n",
        "    Returns:\n",
        "      True if the year is a leap year, False otherwise.\n",
        "    \"\"\"\n",
        "    if (year % 4 == 0 and year % 100 != 0) or year % 400 == 0:\n",
        "      return True\n",
        "    return False\n",
        "\n",
        "# Example usage:\n",
        "year_to_check = 2024\n",
        "if Car.is_leap_year(year_to_check):\n",
        "  print(f\"{year_to_check} is a leap year.\")\n",
        "else:\n",
        "  print(f\"{year_to_check} is not a leap year.\")"
      ],
      "metadata": {
        "colab": {
          "base_uri": "https://localhost:8080/"
        },
        "id": "l159HfVkgZg3",
        "outputId": "b8ff60c6-69a3-470f-bfd3-b4d281765276"
      },
      "execution_count": 17,
      "outputs": [
        {
          "output_type": "stream",
          "name": "stdout",
          "text": [
            "2024 is a leap year.\n"
          ]
        }
      ]
    },
    {
      "cell_type": "code",
      "source": [],
      "metadata": {
        "id": "wLOh_kEsg2hC"
      },
      "execution_count": null,
      "outputs": []
    }
  ]
}